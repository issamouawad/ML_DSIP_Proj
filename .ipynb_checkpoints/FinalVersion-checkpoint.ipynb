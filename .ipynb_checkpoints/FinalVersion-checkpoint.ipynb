{
 "cells": [
  {
   "cell_type": "code",
   "execution_count": 1,
   "metadata": {},
   "outputs": [],
   "source": [
    "from IterateDataSet import ExtractDataSetFeatures\n",
    "from Classification.Classifier import ClassifyKCrossValidation\n",
    "import numpy as np\n",
    "import scipy.io as sio"
   ]
  },
  {
   "cell_type": "markdown",
   "metadata": {},
   "source": [
    "Feature Extraction:\n",
    "\\nThis"
   ]
  },
  {
   "cell_type": "code",
   "execution_count": 3,
   "metadata": {},
   "outputs": [],
   "source": [
    "#root = 'E:\\\\UNIGE MSC\\\\Project\\\\lfwcrop_grey\\\\lfwcrop_grey\\\\lfw_hard\\\\'\n",
    "#root = 'E:\\\\UNIGE MSC\\\\Project\\\\lfwcrop_grey\\\\lfwcrop_grey\\\\larger'\n",
    "root = 'C:\\\\Users\\\\IssaMawad\\\\Downloads\\\\PhD_tool\\\\PhD_tool\\\\demos\\\\database_min\\\\'\n",
    "#root= 'C:\\\\Users\\\\IssaMawad\\\\Downloads\\\\grimace\\\\aligned\\\\'\n",
    "#root= 'C:\\\\Users\\\\IssaMawad\\\\Downloads\\\\faces96\\\\aligned\\\\'\n",
    "#root = 'C:\\\\Users\\\\IssaMawad\\\\Downloads\\\\lfw-funneled\\\\aligned\\\\'\n",
    "#x,y = ExtractDataSetFeatures(root,features_type='facenet',imageExt='pgm')\n",
    "ExtractDataSetFeatures??\n",
    "#x,y = GetLearnedFeatures(root)"
   ]
  },
  {
   "cell_type": "markdown",
   "metadata": {},
   "source": [
    " Loading pre-Extracted Features"
   ]
  },
  {
   "cell_type": "code",
   "execution_count": 2,
   "metadata": {},
   "outputs": [],
   "source": [
    "YaleDatabase='YaleFinal\\\\'\n",
    "ORLDatabase='ORL\\\\'\n",
    "LFWDatabase='LFW-easy\\\\'\n",
    "PlainFeatures='plain.mat'\n",
    "HOGFeatures = 'hog.mat'\n",
    "GaborFeatures='gbr.mat'\n",
    "GaborExtended = '32gbr.mat'\n",
    "FacenetFeatures='facenet.mat'\n",
    "dataset= sio.loadmat(ORLDatabase+HOGFeatures)\n",
    "x = dataset['x']\n",
    "y = dataset['y']\n",
    "\n"
   ]
  },
  {
   "cell_type": "markdown",
   "metadata": {},
   "source": [
    "Classification"
   ]
  },
  {
   "cell_type": "code",
   "execution_count": 3,
   "metadata": {
    "scrolled": true
   },
   "outputs": [
    {
     "name": "stdout",
     "output_type": "stream",
     "text": [
      "using parameter = 0.1, fold  accuracy is 0.8583333333333333\n",
      "using parameter = 0.1, fold  accuracy is 0.83\n",
      "using parameter = 0.1, fold  accuracy is 0.875\n",
      "mean accuracy for parameter 0.1 is 0.8544444444444445\n",
      "using parameter = 0.5, fold  accuracy is 0.8416666666666667\n",
      "using parameter = 0.5, fold  accuracy is 0.82\n",
      "using parameter = 0.5, fold  accuracy is 0.9\n",
      "mean accuracy for parameter 0.5 is 0.8538888888888888\n",
      "using parameter = 1, fold  accuracy is 0.8333333333333334\n",
      "using parameter = 1, fold  accuracy is 0.78\n",
      "using parameter = 1, fold  accuracy is 0.8625\n",
      "mean accuracy for parameter 1 is 0.8252777777777777\n",
      "training the model on all the training set using parameter=0.1\n",
      "             precision    recall  f1-score   support\n",
      "\n",
      "        s1        0.50      0.67      0.57         3\n",
      "        s10       1.00      1.00      1.00         2\n",
      "        s11       1.00      1.00      1.00         3\n",
      "        s12       1.00      1.00      1.00         3\n",
      "        s13       1.00      1.00      1.00         2\n",
      "        s14       0.67      1.00      0.80         2\n",
      "        s15       1.00      1.00      1.00         3\n",
      "        s16       0.50      0.67      0.57         3\n",
      "        s17       1.00      1.00      1.00         2\n",
      "        s18       1.00      1.00      1.00         2\n",
      "        s19       1.00      1.00      1.00         2\n",
      "        s2        1.00      1.00      1.00         3\n",
      "        s20       1.00      1.00      1.00         3\n",
      "        s21       1.00      1.00      1.00         2\n",
      "        s22       1.00      1.00      1.00         3\n",
      "        s23       1.00      1.00      1.00         3\n",
      "        s24       1.00      0.67      0.80         3\n",
      "        s25       1.00      0.67      0.80         3\n",
      "        s26       1.00      1.00      1.00         2\n",
      "        s27       1.00      1.00      1.00         2\n",
      "        s28       0.50      0.67      0.57         3\n",
      "        s29       1.00      1.00      1.00         2\n",
      "        s3        1.00      1.00      1.00         3\n",
      "        s30       1.00      1.00      1.00         3\n",
      "        s31       1.00      1.00      1.00         2\n",
      "        s32       1.00      1.00      1.00         2\n",
      "        s33       1.00      1.00      1.00         3\n",
      "        s34       1.00      1.00      1.00         3\n",
      "        s35       1.00      1.00      1.00         3\n",
      "        s36       1.00      1.00      1.00         2\n",
      "        s37       1.00      1.00      1.00         2\n",
      "        s38       1.00      1.00      1.00         3\n",
      "        s39       1.00      0.67      0.80         3\n",
      "        s4        1.00      1.00      1.00         2\n",
      "        s40       1.00      1.00      1.00         2\n",
      "        s5        1.00      1.00      1.00         2\n",
      "        s6        1.00      0.50      0.67         2\n",
      "        s7        1.00      1.00      1.00         3\n",
      "        s8        1.00      1.00      1.00         2\n",
      "        s9        1.00      1.00      1.00         2\n",
      "\n",
      "avg / total       0.95      0.93      0.93       100\n",
      "\n"
     ]
    },
    {
     "data": {
      "image/png": "[encoded data removed]",
      "text/plain": [
       "<matplotlib.figure.Figure at 0x159c28a8588>"
      ]
     },
     "metadata": {},
     "output_type": "display_data"
    }
   ],
   "source": [
    "ClassifyKCrossValidation(x,y,train_size=0.75,test_size=0.25,\n",
    "                         num_splits=3,\n",
    "                         use_dimentionality_reduction='false',dimentionality_reduction='pca',pca_components=128,\n",
    "                         Classifier='RLS',kernel='gaussian',poly_degree=1,\n",
    "                         params = [0.1,0.5,1],distance_metric='manhattan')"
   ]
  },
  {
   "cell_type": "code",
   "execution_count": 15,
   "metadata": {},
   "outputs": [],
   "source": [
    "import scipy.io\n",
    "scipy.io.savemat('ORL_min/lgbphs.mat', mdict={'x': x,'y':y})"
   ]
  },
  {
   "cell_type": "code",
   "execution_count": 6,
   "metadata": {},
   "outputs": [],
   "source": [
    "ClassifyKCrossValidation??"
   ]
  },
  {
   "cell_type": "code",
   "execution_count": 3,
   "metadata": {},
   "outputs": [],
   "source": [
    "for i in range(x.shape[0]):\n",
    "    x[i] = x[i]/np.sum(x[i])"
   ]
  },
  {
   "cell_type": "code",
   "execution_count": 28,
   "metadata": {},
   "outputs": [],
   "source": [
    "def histogram_intersection(h1, h2):\n",
    "   \n",
    "    sm = 0\n",
    "    for i in range(len(h1)):\n",
    "        sm += min(h1[i],h2[i])\n",
    "    return 1-sm"
   ]
  }
 ],
 "metadata": {
  "kernelspec": {
   "display_name": "Python 3",
   "language": "python",
   "name": "python3"
  },
  "language_info": {
   "codemirror_mode": {
    "name": "ipython",
    "version": 3
   },
   "file_extension": ".py",
   "mimetype": "text/x-python",
   "name": "python",
   "nbconvert_exporter": "python",
   "pygments_lexer": "ipython3",
   "version": "3.5.4"
  }
 },
 "nbformat": 4,
 "nbformat_minor": 2
}
