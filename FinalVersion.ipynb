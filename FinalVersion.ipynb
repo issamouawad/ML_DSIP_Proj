{
 "cells": [
  {
   "cell_type": "code",
   "execution_count": null,
   "metadata": {},
   "outputs": [],
   "source": [
    "from IterateDataSet import ExtractDataSetFeatures\n",
    "from Classification.Classifier import ClassifyKCrossValidation\n",
    "import numpy as np\n",
    "import scipy.io as sio\n",
    "#from Preprocessing.align_dataset import align un-comment if dlib is installed"
   ]
  },
  {
   "cell_type": "markdown",
   "metadata": {},
   "source": [
    "Feature Extraction:"
   ]
  },
  {
   "cell_type": "markdown",
   "metadata": {},
   "source": [
    "Different Datasets Are Used(and the url is saved here).\n"
   ]
  },
  {
   "cell_type": "markdown",
   "metadata": {},
   "source": [
    "the function ExtractDataSetFeatures Extracts features of image dataset using a defined method"
   ]
  },
  {
   "cell_type": "code",
   "execution_count": 5,
   "metadata": {},
   "outputs": [],
   "source": [
    "ExtractDataSetFeatures??"
   ]
  },
  {
   "cell_type": "code",
   "execution_count": null,
   "metadata": {},
   "outputs": [],
   "source": [
    "#root = 'E:\\\\UNIGE MSC\\\\Project\\\\lfwcrop_grey\\\\lfwcrop_grey\\\\lfw_hard\\\\'\n",
    "#root = 'E:\\\\UNIGE MSC\\\\Project\\\\lfwcrop_grey\\\\lfwcrop_grey\\\\MultiClass'\n",
    "#root = 'C:\\\\Users\\\\IssaMawad\\\\Downloads\\\\PhD_tool\\\\PhD_tool\\\\demos\\\\database_min\\\\'\n",
    "#root= 'C:\\\\Users\\\\IssaMawad\\\\Downloads\\\\grimace\\\\aligned\\\\'\n",
    "root= 'C:\\\\Users\\\\IssaMawad\\\\Downloads\\\\faces94\\\\faces94\\\\malestaff_cropped\\\\'\n",
    "#root = 'C:\\\\Users\\\\IssaMawad\\\\Downloads\\\\lfw-funneled\\\\aligned\\\\'\n",
    "x,y = ExtractDataSetFeatures(root,features_type='facenet',imageExt='jpg')\n",
    "\n",
    "#x,y = GetLearnedFeatures(root)"
   ]
  },
  {
   "cell_type": "markdown",
   "metadata": {},
   "source": [
    " Loading pre-Extracted Features"
   ]
  },
  {
   "cell_type": "code",
   "execution_count": null,
   "metadata": {},
   "outputs": [],
   "source": [
    "YaleDatabase='YaleFinal\\\\'\n",
    "ORLDatabase='ORL\\\\'\n",
    "LFWDatabase='LFW-easy\\\\'\n",
    "PlainFeatures='plain.mat'\n",
    "HOGFeatures = 'hog.mat'\n",
    "GaborFeatures='gbr.mat'\n",
    "GaborExtended = '32gbr.mat'\n",
    "FacenetFeatures='facenet.mat'\n",
    "dataset= sio.loadmat(ORLDatabase+HOGFeatures)\n",
    "x = dataset['x']\n",
    "y = dataset['y']\n",
    "\n"
   ]
  },
  {
   "cell_type": "markdown",
   "metadata": {},
   "source": [
    "Classification"
   ]
  },
  {
   "cell_type": "code",
   "execution_count": null,
   "metadata": {},
   "outputs": [],
   "source": [
    "ClassifyKCrossValidation??"
   ]
  },
  {
   "cell_type": "code",
   "execution_count": null,
   "metadata": {
    "scrolled": true
   },
   "outputs": [],
   "source": [
    "ClassifyKCrossValidation(x,y,train_size=0.75,test_size=0.25,\n",
    "                         num_splits=3,\n",
    "                         use_dimentionality_reduction='false',dimentionality_reduction='both',pca_components=128,\n",
    "                         Classifier='knn',kernel='poly',kernel_param=3,\n",
    "                         params = [1,3,5],distance_metric='manhattan')"
   ]
  },
  {
   "cell_type": "markdown",
   "metadata": {},
   "source": [
    "Saving Features ( optional , to save features in a file for a later use)"
   ]
  },
  {
   "cell_type": "code",
   "execution_count": null,
   "metadata": {},
   "outputs": [],
   "source": [
    "import scipy.io\n",
    "scipy.io.savemat('ORL_min/lgbphs.mat', mdict={'x': x,'y':y})"
   ]
  },
  {
   "cell_type": "markdown",
   "metadata": {},
   "source": [
    "Cropping a dataset (optional)"
   ]
  },
  {
   "cell_type": "code",
   "execution_count": null,
   "metadata": {},
   "outputs": [],
   "source": [
    "from Preprocessing.align_dataset import align\n"
   ]
  },
  {
   "cell_type": "code",
   "execution_count": null,
   "metadata": {},
   "outputs": [],
   "source": [
    "align??"
   ]
  },
  {
   "cell_type": "code",
   "execution_count": null,
   "metadata": {},
   "outputs": [],
   "source": [
    "align('C:\\\\Users\\\\IssaMawad\\\\Downloads\\\\faces94\\\\faces94\\\\malestaff','C:\\\\Users\\\\IssaMawad\\\\Downloads\\\\faces94\\\\faces94\\\\malestaff_cropped',imgExt='jpg')"
   ]
  }
 ],
 "metadata": {
  "kernelspec": {
   "display_name": "Python 3",
   "language": "python",
   "name": "python3"
  },
  "language_info": {
   "codemirror_mode": {
    "name": "ipython",
    "version": 3
   },
   "file_extension": ".py",
   "mimetype": "text/x-python",
   "name": "python",
   "nbconvert_exporter": "python",
   "pygments_lexer": "ipython3",
   "version": "3.5.4"
  }
 },
 "nbformat": 4,
 "nbformat_minor": 2
}
