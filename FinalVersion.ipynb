{
 "cells": [
  {
   "cell_type": "code",
   "execution_count": 2,
   "metadata": {},
   "outputs": [],
   "source": [
    "from IterateDataSet import ExtractDataSetFeatures\n",
    "from Classification.Classifier import ClassifyKCrossValidation\n",
    "import numpy as np\n",
    "import scipy.io as sio"
   ]
  },
  {
   "cell_type": "markdown",
   "metadata": {},
   "source": [
    "Feature Extraction:"
   ]
  },
  {
   "cell_type": "markdown",
   "metadata": {},
   "source": [
    "Different Datasets Are Used(and the url is saved here).\n"
   ]
  },
  {
   "cell_type": "markdown",
   "metadata": {},
   "source": [
    "the function ExtractDataSetFeatures Extracts features of image dataset using a defined method"
   ]
  },
  {
   "cell_type": "code",
   "execution_count": 4,
   "metadata": {},
   "outputs": [],
   "source": [
    "ExtractDataSetFeatures??"
   ]
  },
  {
   "cell_type": "code",
   "execution_count": 3,
   "metadata": {},
   "outputs": [],
   "source": [
    "#root = 'E:\\\\UNIGE MSC\\\\Project\\\\lfwcrop_grey\\\\lfwcrop_grey\\\\lfw_hard\\\\'\n",
    "#root = 'E:\\\\UNIGE MSC\\\\Project\\\\lfwcrop_grey\\\\lfwcrop_grey\\\\larger'\n",
    "root = 'C:\\\\Users\\\\IssaMawad\\\\Downloads\\\\PhD_tool\\\\PhD_tool\\\\demos\\\\database_min\\\\'\n",
    "#root= 'C:\\\\Users\\\\IssaMawad\\\\Downloads\\\\grimace\\\\aligned\\\\'\n",
    "#root= 'C:\\\\Users\\\\IssaMawad\\\\Downloads\\\\faces96\\\\aligned\\\\'\n",
    "#root = 'C:\\\\Users\\\\IssaMawad\\\\Downloads\\\\lfw-funneled\\\\aligned\\\\'\n",
    "#x,y = ExtractDataSetFeatures(root,features_type='facenet',imageExt='pgm')\n",
    "\n",
    "#x,y = GetLearnedFeatures(root)"
   ]
  },
  {
   "cell_type": "markdown",
   "metadata": {},
   "source": [
    " Loading pre-Extracted Features"
   ]
  },
  {
   "cell_type": "code",
   "execution_count": 8,
   "metadata": {},
   "outputs": [],
   "source": [
    "YaleDatabase='YaleFinal\\\\'\n",
    "ORLDatabase='ORL\\\\'\n",
    "LFWDatabase='LFW-easy\\\\'\n",
    "PlainFeatures='plain.mat'\n",
    "HOGFeatures = 'hog.mat'\n",
    "GaborFeatures='gbr.mat'\n",
    "GaborExtended = '32gbr.mat'\n",
    "FacenetFeatures='facenet.mat'\n",
    "dataset= sio.loadmat(LFWDatabase+FacenetFeatures)\n",
    "x = dataset['x']\n",
    "y = dataset['y']\n",
    "\n"
   ]
  },
  {
   "cell_type": "markdown",
   "metadata": {},
   "source": [
    "Classification"
   ]
  },
  {
   "cell_type": "code",
   "execution_count": null,
   "metadata": {},
   "outputs": [],
   "source": [
    "ClassifyKCrossValidation??"
   ]
  },
  {
   "cell_type": "code",
   "execution_count": 9,
   "metadata": {
    "scrolled": true
   },
   "outputs": [
    {
     "name": "stdout",
     "output_type": "stream",
     "text": [
      "using parameter = 0.1, fold  accuracy is 0.9864864864864865\n",
      "using parameter = 0.1, fold  accuracy is 0.9710144927536232\n",
      "using parameter = 0.1, fold  accuracy is 0.9701492537313433\n",
      "mean accuracy for parameter 0.1 is 0.9758834109904844\n",
      "using parameter = 0.5, fold  accuracy is 0.6216216216216216\n",
      "using parameter = 0.5, fold  accuracy is 0.6231884057971014\n",
      "using parameter = 0.5, fold  accuracy is 0.6119402985074627\n",
      "mean accuracy for parameter 0.5 is 0.6189167753087286\n",
      "using parameter = 1, fold  accuracy is 0.35135135135135137\n",
      "using parameter = 1, fold  accuracy is 0.34782608695652173\n",
      "using parameter = 1, fold  accuracy is 0.3582089552238806\n",
      "mean accuracy for parameter 1 is 0.35246213117725117\n",
      "training the model on all the training set using parameter=0.1\n",
      "                     precision    recall  f1-score   support\n",
      "\n",
      "Jennifer_Capritati        1.00      1.00      1.00        11\n",
      "Jennifer_Garner           1.00      1.00      1.00         3\n",
      "Jennifer_Lopez            1.00      1.00      1.00         5\n",
      "Jeremy_Greenstock         1.00      1.00      1.00         6\n",
      "Jiang_Zermin              1.00      1.00      1.00         5\n",
      "Joe_Liberman              1.00      1.00      1.00         3\n",
      "John_Achrcroft            1.00      1.00      1.00        13\n",
      "John_Allen_Mohammed       1.00      1.00      1.00         3\n",
      "John_Bolton               1.00      1.00      1.00         3\n",
      "Vladimir_Putin            1.00      1.00      1.00        12\n",
      "Winona_Ryder              1.00      1.00      1.00         6\n",
      "\n",
      "        avg / total       1.00      1.00      1.00        70\n",
      "\n"
     ]
    },
    {
     "data": {
      "image/png": "[encoded data removed]",
      "text/plain": [
       "<matplotlib.figure.Figure at 0x159d8b7e390>"
      ]
     },
     "metadata": {},
     "output_type": "display_data"
    }
   ],
   "source": [
    "ClassifyKCrossValidation(x,y,train_size=0.75,test_size=0.25,\n",
    "                         num_splits=3,\n",
    "                         use_dimentionality_reduction='false',dimentionality_reduction='pca',pca_components=128,\n",
    "                         Classifier='RLS',kernel='gaussian',poly_degree=1,\n",
    "                         params = [0.1,0.5,1],distance_metric='manhattan')"
   ]
  },
  {
   "cell_type": "code",
   "execution_count": 15,
   "metadata": {},
   "outputs": [],
   "source": [
    "import scipy.io\n",
    "scipy.io.savemat('ORL_min/lgbphs.mat', mdict={'x': x,'y':y})"
   ]
  }
 ],
 "metadata": {
  "kernelspec": {
   "display_name": "Python 3",
   "language": "python",
   "name": "python3"
  },
  "language_info": {
   "codemirror_mode": {
    "name": "ipython",
    "version": 3
   },
   "file_extension": ".py",
   "mimetype": "text/x-python",
   "name": "python",
   "nbconvert_exporter": "python",
   "pygments_lexer": "ipython3",
   "version": "3.5.4"
  }
 },
 "nbformat": 4,
 "nbformat_minor": 2
}
